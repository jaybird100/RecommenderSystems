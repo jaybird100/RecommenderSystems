{
  "nbformat": 4,
  "nbformat_minor": 0,
  "metadata": {
    "colab": {
      "provenance": []
    },
    "kernelspec": {
      "name": "python3",
      "display_name": "Python 3"
    },
    "language_info": {
      "name": "python"
    }
  },
  "cells": [
    {
      "cell_type": "code",
      "execution_count": 1,
      "metadata": {
        "id": "ulcQRqEAozQb"
      },
      "outputs": [],
      "source": [
        "import pandas as pd\n",
        "comoda = pd.read_csv('comoda_data.csv')"
      ]
    },
    {
      "cell_type": "code",
      "source": [
        "comoda=comoda.rename(columns={\"userID\": \"user\", 'itemID': 'item'})\n",
        "train=comoda.sample(frac=0.8,random_state=200)\n",
        "test=comoda.drop(train.index)\n",
        "print(train)\n",
        "print(test)"
      ],
      "metadata": {
        "colab": {
          "base_uri": "https://localhost:8080/"
        },
        "id": "JT7q7a49pQ8_",
        "outputId": "44cc343a-9102-479d-eee4-e457eed81cda"
      },
      "execution_count": 6,
      "outputs": [
        {
          "output_type": "stream",
          "name": "stdout",
          "text": [
            "      user  item  rating  age  sex  city  country  time  daytype  season  ...  \\\n",
            "2256    50  4365       4   26    2    21        2     3        2       2  ...   \n",
            "1097    48  3884       5   28    1    20        2     4        1       1  ...   \n",
            "1868    59  4224       2   27    1    20        2     4        2       4  ...   \n",
            "1580   188  3753       5   20    1    10        3     3        1       3  ...   \n",
            "329     21   230       5   28    1    10        3     4        1       3  ...   \n",
            "...    ...   ...     ...  ...  ...   ...      ...   ...      ...     ...  ...   \n",
            "1796    21    85       5   28    1    10        3     3        1       3  ...   \n",
            "280     55   194       4   28    2    20        2     1        1       3  ...   \n",
            "1286    26     8       5   -1    2     3        5     4        2       1  ...   \n",
            "1865    61  3983       4   28    1    20        2     2        2       4  ...   \n",
            "705     25  3613       4   27    1    20        2     1        3       4  ...   \n",
            "\n",
            "      movieCountry  movieLanguage  movieYear  genre1  genre2  genre3  actor1  \\\n",
            "2256            37              9       2010       9       7      -1    1210   \n",
            "1097            37              9       2009      10      18      -1     660   \n",
            "1868            29              9       2011       1      19      21    1224   \n",
            "1580            37              9       2006       8      21      -1    1001   \n",
            "329             37              9       2003       1       3      12     541   \n",
            "...            ...            ...        ...     ...     ...     ...     ...   \n",
            "1796            37              9       2001       1       8      21    1630   \n",
            "280             37              9       2009      10      12      18    1121   \n",
            "1286            37              9       2007       1       8      21    1126   \n",
            "1865            37              9       2011       7      18      -1    1483   \n",
            "705             14             11       2009       7      -1      -1      12   \n",
            "\n",
            "      actor2  actor3    budget  \n",
            "2256      -1      -1        -1  \n",
            "1097    1912     108  25000000  \n",
            "1868    1931     437   7000000  \n",
            "1580    1404    1755  27000000  \n",
            "329     1919     753  94000000  \n",
            "...      ...     ...       ...  \n",
            "1796     223     296  92000000  \n",
            "280     1629    1820  50000000  \n",
            "1286    1992    1908  53000000  \n",
            "1865     860    1777  36000000  \n",
            "705      199    1405   5000000  \n",
            "\n",
            "[1837 rows x 30 columns]\n",
            "      user  item  rating  age  sex  city  country  time  daytype  season  ...  \\\n",
            "2       21     6       4   28    1    10        3     4        2       2  ...   \n",
            "17      31     3       3   30    2    20        2     2        1       2  ...   \n",
            "18      31     9       4   30    2    20        2     4        2       2  ...   \n",
            "37      35    36       3   30    1    10        3     4        2       3  ...   \n",
            "51      21    45       5   28    1    10        3     4        1       2  ...   \n",
            "...    ...   ...     ...  ...  ...   ...      ...   ...      ...     ...  ...   \n",
            "2270    33  4371       1   26    2    10        3     4        3       2  ...   \n",
            "2274   125  4374       3   23    2     3        5     4        1       2  ...   \n",
            "2278    31  3954       3   30    2    20        2     2        1       2  ...   \n",
            "2280    50  4376       3   26    2    21        2     3        1       2  ...   \n",
            "2282    33  2240       4   26    2    10        3     4        3       2  ...   \n",
            "\n",
            "      movieCountry  movieLanguage  movieYear  genre1  genre2  genre3  actor1  \\\n",
            "2               37              9       2008       7      10      18    1373   \n",
            "17              37              9       2010       7      10      18      74   \n",
            "18              37              9       1993       1       6      10    1877   \n",
            "37              37              9       2007      14      21      -1     951   \n",
            "51              37              9       1993       8      10      21    1347   \n",
            "...            ...            ...        ...     ...     ...     ...     ...   \n",
            "2270            13             10       2011       7      18      -1     144   \n",
            "2274            37              9       2012       1       8      10     349   \n",
            "2278            37              9       2005       1       3      19     595   \n",
            "2280            37              9       2004      10      -1      -1     225   \n",
            "2282            37              9       1993       8      10      21      24   \n",
            "\n",
            "      actor2  actor3     budget  \n",
            "2       1510    1691   24000000  \n",
            "17       334    1910   30000000  \n",
            "18       931     701   33000000  \n",
            "37      1684    1286   22200000  \n",
            "51      1624     155   25000000  \n",
            "...      ...     ...        ...  \n",
            "2270     618     254         -1  \n",
            "2274    1343     645  250000000  \n",
            "2278     718    1416  113000000  \n",
            "2280     997     543         -1  \n",
            "2282    1715    1518         -1  \n",
            "\n",
            "[459 rows x 30 columns]\n"
          ]
        }
      ]
    },
    {
      "cell_type": "code",
      "source": [
        "from lenskit.algorithms.bias import Bias\n",
        "from lenskit.algorithms.als import BiasedMF\n",
        "bia = Bias()\n",
        "bia = bia.fit(train)\n",
        "aBiasedMF = BiasedMF(28,bias=bia)\n",
        "aBiasedMF.fit(train)"
      ],
      "metadata": {
        "colab": {
          "base_uri": "https://localhost:8080/"
        },
        "id": "W23DSOcdp3Ze",
        "outputId": "258a3eb4-5cb3-4a06-d919-942e9bdd3509"
      },
      "execution_count": 9,
      "outputs": [
        {
          "output_type": "execute_result",
          "data": {
            "text/plain": [
              "<lenskit.algorithms.als.BiasedMF at 0x7f12a6f76150>"
            ]
          },
          "metadata": {},
          "execution_count": 9
        }
      ]
    },
    {
      "cell_type": "code",
      "source": [
        "from lenskit.batch import predict\n",
        "from lenskit.metrics.predict import user_metric, rmse, mae\n",
        "preds = predict(aBiasedMF, test)\n",
        "print(\"RMSE: \",user_metric(preds, metric=rmse))\n",
        "print(\"MAE: \",user_metric(preds, metric=mae))"
      ],
      "metadata": {
        "colab": {
          "base_uri": "https://localhost:8080/"
        },
        "id": "GdHHdzDtp3dz",
        "outputId": "f662f12d-d468-4da3-bb38-aca6a0d1bc5a"
      },
      "execution_count": 13,
      "outputs": [
        {
          "output_type": "stream",
          "name": "stdout",
          "text": [
            "RMSE:  0.8776128985454728\n",
            "MAE:  0.7754093373466426\n"
          ]
        }
      ]
    }
  ]
}