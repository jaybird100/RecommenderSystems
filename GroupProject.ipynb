{
  "nbformat": 4,
  "nbformat_minor": 0,
  "metadata": {
    "colab": {
      "provenance": [],
      "collapsed_sections": []
    },
    "kernelspec": {
      "name": "python3",
      "display_name": "Python 3"
    },
    "language_info": {
      "name": "python"
    }
  },
  "cells": [
    {
      "cell_type": "code",
      "execution_count": 9,
      "metadata": {
        "id": "ulcQRqEAozQb"
      },
      "outputs": [],
      "source": [
        "import pandas as pd\n",
        "comoda = pd.read_csv('LDOS-CoMoDa.csv')"
      ]
    },
    {
      "cell_type": "code",
      "source": [
        "comoda=comoda.rename(columns={\"userID\": \"user\", 'itemID': 'item'})\n",
        "train=comoda.sample(frac=0.8,random_state=200)\n",
        "test=comoda.drop(train.index)\n",
        "print(train)\n",
        "print(test)"
      ],
      "metadata": {
        "id": "JT7q7a49pQ8_"
      },
      "execution_count": null,
      "outputs": []
    },
    {
      "cell_type": "code",
      "source": [
        "from lenskit.algorithms.bias import Bias\n",
        "from lenskit.algorithms.als import BiasedMF\n",
        "aBiasedMF = BiasedMF(28,bias=True)\n",
        "aBiasedMF.fit(train)"
      ],
      "metadata": {
        "id": "W23DSOcdp3Ze"
      },
      "execution_count": null,
      "outputs": []
    },
    {
      "cell_type": "code",
      "source": [
        "from lenskit.batch import predict\n",
        "from lenskit.metrics.predict import user_metric, rmse, mae\n",
        "preds = predict(aBiasedMF, test)\n",
        "print(\"RMSE: \",user_metric(preds, metric=rmse))\n",
        "print(\"MAE: \",user_metric(preds, metric=mae))"
      ],
      "metadata": {
        "id": "GdHHdzDtp3dz"
      },
      "execution_count": null,
      "outputs": []
    }
  ]
}